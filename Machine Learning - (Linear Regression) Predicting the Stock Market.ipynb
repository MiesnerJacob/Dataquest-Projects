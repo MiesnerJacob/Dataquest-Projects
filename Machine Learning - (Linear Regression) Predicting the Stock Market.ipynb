{
 "cells": [
  {
   "cell_type": "markdown",
   "metadata": {},
   "source": [
    "# Predicting the Stock Market\n",
    "\n",
    "In this project, I'll be working with data from the S&P500 Index. I'll be using historical data on the price of the S&P500 Index to make predictions about future prices. Predicting whether an index will go up or down will help me forecast how the stock market as a whole will perform. Since stocks tend to correlate with how well the economy as a whole is performing, it can also help me make economic forecasts."
   ]
  },
  {
   "cell_type": "code",
   "execution_count": 5,
   "metadata": {
    "scrolled": false
   },
   "outputs": [
    {
     "name": "stdout",
     "output_type": "stream",
     "text": [
      "MAE: $16.13\n"
     ]
    }
   ],
   "source": [
    "import pandas as pd\n",
    "from datetime import datetime\n",
    "from sklearn.linear_model import LinearRegression\n",
    "from sklearn.metrics import mean_squared_error\n",
    "from sklearn.metrics import mean_absolute_error\n",
    "\n",
    "#Prepping Dataframe\n",
    "df = pd.read_csv('/Users/miesner.jacob/Desktop/DataQuest/datasets/sphist.csv')\n",
    "df['Date'] = pd.to_datetime(df['Date'])\n",
    "df= df.sort_values('Date', ascending = True)\n",
    "df = df.reset_index(drop=True)\n",
    "\n",
    "#Calculating derived metrics\n",
    "df['five_day_ma'] = df['Close'].rolling(window=5).mean().shift(1)\n",
    "df['year_ma'] = df['Close'].rolling(window=365).mean().shift(1)\n",
    "df['mean_ratio'] = df['five_day_ma'] / df['year_ma']\n",
    "\n",
    "df['five_day_std'] = df['Close'].rolling(window=5).std().shift(1)\n",
    "df['year_std'] = df['Close'].rolling(window=365).std().shift(1)\n",
    "df['std_ratio'] = df['five_day_std'] / df['year_std'] \n",
    "\n",
    "#getting rid of rows with insufficient data\n",
    "df = df[df[\"Date\"] > datetime(year=1951, month=1, day=2)]\n",
    "df = df.dropna(axis = 0)\n",
    "\n",
    "#Creating Train/Test Split\n",
    "train = df[df[\"Date\"] < datetime(year=2013, month=1, day=1)]\n",
    "test = df[df[\"Date\"] > datetime(year=2013, month=1, day=1)]\n",
    "\n",
    "#Fitting Model\n",
    "original_columns = ['Close','High','Low','Open','Volume','Adj Close','Date']\n",
    "lr = LinearRegression()\n",
    "lr.fit(train.drop(original_columns, axis = 1),train['Close'])\n",
    "\n",
    "#Making predictions and evaluting error metrics\n",
    "predictions = lr.predict(test.drop(original_columns, axis = 1))\n",
    "print('MAE:',\"${:,.2f}\".format(mean_absolute_error(test['Close'], predictions)))"
   ]
  },
  {
   "cell_type": "markdown",
   "metadata": {},
   "source": [
    "This simple model was able to predict the price of the S&P 500 within an average of $16.13 using just a few derived financial technical analysis metrics. This shows the power of machine learning. If we were to delve deeper into the inputs, model selection and construction than we wuld be able to come up with an even more accurate predictor!"
   ]
  },
  {
   "cell_type": "code",
   "execution_count": null,
   "metadata": {},
   "outputs": [],
   "source": []
  }
 ],
 "metadata": {
  "kernelspec": {
   "display_name": "Python 3",
   "language": "python",
   "name": "python3"
  },
  "language_info": {
   "codemirror_mode": {
    "name": "ipython",
    "version": 3
   },
   "file_extension": ".py",
   "mimetype": "text/x-python",
   "name": "python",
   "nbconvert_exporter": "python",
   "pygments_lexer": "ipython3",
   "version": "3.7.0"
  },
  "toc": {
   "base_numbering": 1,
   "nav_menu": {},
   "number_sections": true,
   "sideBar": true,
   "skip_h1_title": false,
   "title_cell": "Table of Contents",
   "title_sidebar": "Contents",
   "toc_cell": false,
   "toc_position": {},
   "toc_section_display": true,
   "toc_window_display": false
  }
 },
 "nbformat": 4,
 "nbformat_minor": 2
}
