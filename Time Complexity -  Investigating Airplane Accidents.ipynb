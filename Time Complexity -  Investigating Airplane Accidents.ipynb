{
 "cells": [
  {
   "cell_type": "markdown",
   "metadata": {},
   "source": [
    "# Guided Project: Investigating Airplane Accidents (Time Complexity)"
   ]
  },
  {
   "cell_type": "markdown",
   "metadata": {},
   "source": [
    " In this project, we'll work with a data set of airplane accident statistics to demonstrate the efficiency of some search algorithms that use different levels of time complexity.\n",
    "\n",
    "We'll be working with a data set that contains 77,282 aviation accidents that occurred in the U.S., and the metadata associated with them. The data in our AviationData.txt file comes from the National Transportation Safety Board (NTSB)."
   ]
  },
  {
   "cell_type": "code",
   "execution_count": 1,
   "metadata": {
    "scrolled": true
   },
   "outputs": [
    {
     "name": "stdout",
     "output_type": "stream",
     "text": [
      "['Event Id', 'Investigation Type', 'Accident Number', 'Event Date', 'Location', 'Country', 'Latitude', 'Longitude', 'Airport Code', 'Airport Name', 'Injury Severity', 'Aircraft Damage', 'Aircraft Category', 'Registration Number', 'Make', 'Model', 'Amateur Built', 'Number of Engines', 'Engine Type', 'FAR Description', 'Schedule', 'Purpose of Flight', 'Air Carrier', 'Total Fatal Injuries', 'Total Serious Injuries', 'Total Minor Injuries', 'Total Uninjured', 'Weather Condition', 'Broad Phase of Flight', 'Report Status', 'Publication Date', '']\n",
      "\n",
      "\n",
      "20150908X74637 | Accident | CEN15LA402 | 09/08/2015 | Freeport, IL | United States | 42.246111 | -89.581945 | KFEP | albertus Airport | Non-Fatal | Substantial | Unknown | N24TL | CLARKE REGINALD W | DRAGONFLY MK |  |  |  | Part 91: General Aviation |  | Personal |  |  | 1 |  |  | VMC | TAKEOFF | Preliminary | 09/09/2015 | \n",
      "\n",
      "\n",
      "\n",
      "['20150908X74637', 'Accident', 'CEN15LA402', '09/08/2015', 'Freeport, IL', 'United States', '42.246111', '-89.581945', 'KFEP', 'albertus Airport', 'Non-Fatal', 'Substantial', 'Unknown', 'N24TL', 'CLARKE REGINALD W', 'DRAGONFLY MK', '', '', '', 'Part 91: General Aviation', '', 'Personal', '', '', '1', '', '', 'VMC', 'TAKEOFF', 'Preliminary', '09/09/2015', '']\n",
      "\n",
      "\n"
     ]
    }
   ],
   "source": [
    "aviation_list = []\n",
    "aviation_data = []\n",
    "\n",
    "#Storing data in list of lists\n",
    "with open('/Users/miesner.jacob/Desktop/DataQuest/datasets/AviationData.txt', 'r') as file:\n",
    "    for line in file:\n",
    "        aviation_data.append(line)\n",
    "        text = line.split('|')\n",
    "        words = []\n",
    "        for word in text:\n",
    "            word = word.strip()\n",
    "            words.append(word)\n",
    "        aviation_list.append(words)\n",
    "\n",
    "#print headers\n",
    "print(aviation_list[0])\n",
    "print('\\n')\n",
    "\n",
    "#first row of raw data\n",
    "print(aviation_data[1])\n",
    "print('\\n')\n",
    "\n",
    "#first row of prepped data    \n",
    "print(aviation_list[1])\n",
    "print('\\n')"
   ]
  },
  {
   "cell_type": "code",
   "execution_count": 2,
   "metadata": {},
   "outputs": [
    {
     "name": "stdout",
     "output_type": "stream",
     "text": [
      "[['20001218X45447', 'Accident', 'LAX94LA336', '07/19/1962', 'BRIDGEPORT, CA', 'United States', '', '', '', '', 'Fatal(4)', 'Destroyed', '', 'N5069P', 'PIPER', 'PA24-180', 'No', '1', 'Reciprocating', '', '', 'Personal', '', '4', '0', '0', '0', 'UNK', 'UNKNOWN', 'Probable Cause', '09/19/1996', '']]\n"
     ]
    }
   ],
   "source": [
    "#Quadratic search aglorithm for info on accident by specific Accident Number        \n",
    "def quadratic_search(lookup_value, data):\n",
    "    lookup_line = []\n",
    "    for line in data:\n",
    "        for word in line:\n",
    "            if lookup_value == word:\n",
    "                lookup_line.append(line)\n",
    "    return lookup_line\n",
    "        \n",
    "\n",
    "#Finding info via Accident Number\n",
    "lax_code = quadratic_search('LAX94LA336', aviation_list)\n",
    "print(lax_code)"
   ]
  },
  {
   "cell_type": "markdown",
   "metadata": {},
   "source": [
    "The disadvantage to looking up values in this manner is that we are using a quadratic search algorithm which iterates through each row and column (or each value in each row) in the data until it finds the correct line. There are other algorithms we could use that could reduce the time complexity from quadratic to something that does not have to check each row and each value in those rows, making it quicker."
   ]
  },
  {
   "cell_type": "code",
   "execution_count": 3,
   "metadata": {},
   "outputs": [
    {
     "name": "stdout",
     "output_type": "stream",
     "text": [
      "[['20001218X45447', 'Accident', 'LAX94LA336', '07/19/1962', 'BRIDGEPORT, CA', 'United States', '', '', '', '', 'Fatal(4)', 'Destroyed', '', 'N5069P', 'PIPER', 'PA24-180', 'No', '1', 'Reciprocating', '', '', 'Personal', '', '4', '0', '0', '0', 'UNK', 'UNKNOWN', 'Probable Cause', '09/19/1996', '']]\n"
     ]
    }
   ],
   "source": [
    "#Linear search aglorithm for info on accident by specific Accident Number        \n",
    "def linear_search(lookup_value, data):\n",
    "    lookup_line = []\n",
    "    for line in data:\n",
    "        if lookup_value in line:\n",
    "            lookup_line.append(line)\n",
    "    return lookup_line\n",
    "        \n",
    "\n",
    "#Finding info via Accident Number\n",
    "lax_code = linear_search('LAX94LA336', aviation_list)\n",
    "print(lax_code)"
   ]
  },
  {
   "cell_type": "markdown",
   "metadata": {},
   "source": [
    "The disadvantage to looking up values in this manner is that we are using a linear search algorithm which iterates through each row in the data until it finds the correct one. There are other algorithms we could use that could reduce the time complexity from linear to something that does not have to check each row, making it quicker."
   ]
  },
  {
   "cell_type": "code",
   "execution_count": 4,
   "metadata": {},
   "outputs": [
    {
     "name": "stdout",
     "output_type": "stream",
     "text": [
      "['20001218X45447', 'Accident', 'LAX94LA336', '07/19/1962', 'BRIDGEPORT, CA', 'United States', '', '', '', '', 'Fatal(4)', 'Destroyed', '', 'N5069P', 'PIPER', 'PA24-180', 'No', '1', 'Reciprocating', '', '', 'Personal', '', '4', '0', '0', '0', 'UNK', 'UNKNOWN', 'Probable Cause', '09/19/1996', '']\n"
     ]
    }
   ],
   "source": [
    "#Logarithmic search aglorithm for info on accident by specific Accident Number        \n",
    "import math\n",
    "def logarithmic_search(lookup_value, data):\n",
    "    data.sort(key=lambda x: x[2])\n",
    "    upper_bound = len(data) - 1\n",
    "    lower_bound = 0\n",
    "    index = math.floor((lower_bound + upper_bound) / 2)\n",
    "    guess = data[index][2]\n",
    "    while lookup_value != guess:\n",
    "        if lookup_value < guess:\n",
    "            upper_bound = index - 1\n",
    "        else:\n",
    "            lower_bound = index + 1\n",
    "        index = math.floor((lower_bound + upper_bound) / 2)\n",
    "        guess = data[index][2]\n",
    "    return data[index]\n",
    "        \n",
    "\n",
    "#Finding info via Accident Number\n",
    "lax_code = logarithmic_search('LAX94LA336', aviation_list)\n",
    "print(lax_code)"
   ]
  },
  {
   "cell_type": "markdown",
   "metadata": {},
   "source": [
    "This lookup algorithm reduces out time complexity down to O(log n) which means that we do not have to search through each row to find the correct one, instead we use a process of elimination by sorting our data and cutting the possible number of rows that could contain the data we are looking for in half during each step. Although this algorithm is efficient, having an algorithm that would only take 1 step to find our data would be even better!"
   ]
  },
  {
   "cell_type": "code",
   "execution_count": 5,
   "metadata": {},
   "outputs": [],
   "source": [
    "#Storing data in list of dictionaries instead of list of lists\n",
    "columns_names = aviation_data[0].split(\" | \")\n",
    "aviation_data_values = aviation_data[1:]\n",
    "aviation_dict_list = []\n",
    "\n",
    "for row in aviation_data_values:\n",
    "    split = row.split(\" | \")\n",
    "    temp_dict = {}\n",
    "    for i in range(len(split)):\n",
    "        temp_dict[columns_names[i]] = split[i]\n",
    "    aviation_dict_list.append(temp_dict)"
   ]
  },
  {
   "cell_type": "code",
   "execution_count": 9,
   "metadata": {},
   "outputs": [
    {
     "name": "stdout",
     "output_type": "stream",
     "text": [
      "[{'Event Id': '20001218X45447', 'Investigation Type': 'Accident', 'Accident Number': 'LAX94LA336', 'Event Date': '07/19/1962', 'Location': 'BRIDGEPORT, CA', 'Country': 'United States', 'Latitude': '', 'Longitude': '', 'Airport Code': '', 'Airport Name': '', 'Injury Severity': 'Fatal(4)', 'Aircraft Damage': 'Destroyed', 'Aircraft Category': '', 'Registration Number': 'N5069P', 'Make': 'PIPER', 'Model': 'PA24-180', 'Amateur Built': 'No', 'Number of Engines': '1', 'Engine Type': 'Reciprocating', 'FAR Description': '', 'Schedule': '', 'Purpose of Flight': 'Personal', 'Air Carrier': '', 'Total Fatal Injuries': '4', 'Total Serious Injuries': '0', 'Total Minor Injuries': '0', 'Total Uninjured': '0', 'Weather Condition': 'UNK', 'Broad Phase of Flight': 'UNKNOWN', 'Report Status': 'Probable Cause', 'Publication Date': '09/19/1996', '\\n': '\\n'}]\n"
     ]
    }
   ],
   "source": [
    "#Searching through list of dictionaries\n",
    "def dict_search(lookup_value, data):\n",
    "    lax_dict = []\n",
    "    for dictionary in data:\n",
    "        if lookup_value in dictionary.values():\n",
    "            lax_dict.append(dictionary)\n",
    "    return lax_dict\n",
    "            \n",
    "#Finding info via Accident Number\n",
    "lax_code = dict_search('LAX94LA336', aviation_dict_list)\n",
    "print(lax_code)"
   ]
  },
  {
   "cell_type": "markdown",
   "metadata": {},
   "source": [
    "The hashable nature of dicitonaries make them much easier to search through and much more efficient than searching through lists. In fact,searching through dictionaries can have a time completixy close to constant. Although, there is a trade-off in the amount of space a dictionary takes up in memory and the increased efficiency it provides."
   ]
  }
 ],
 "metadata": {
  "kernelspec": {
   "display_name": "Python 3",
   "language": "python",
   "name": "python3"
  },
  "language_info": {
   "codemirror_mode": {
    "name": "ipython",
    "version": 3
   },
   "file_extension": ".py",
   "mimetype": "text/x-python",
   "name": "python",
   "nbconvert_exporter": "python",
   "pygments_lexer": "ipython3",
   "version": "3.7.6"
  },
  "toc": {
   "base_numbering": 1,
   "nav_menu": {},
   "number_sections": true,
   "sideBar": true,
   "skip_h1_title": false,
   "title_cell": "Table of Contents",
   "title_sidebar": "Contents",
   "toc_cell": false,
   "toc_position": {},
   "toc_section_display": true,
   "toc_window_display": false
  }
 },
 "nbformat": 4,
 "nbformat_minor": 2
}
